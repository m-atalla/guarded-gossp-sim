{
 "cells": [
  {
   "cell_type": "code",
   "execution_count": 2,
   "id": "1a0d7fad",
   "metadata": {},
   "outputs": [],
   "source": [
    "import matplotlib.pyplot as plt\n",
    "import numpy as np"
   ]
  },
  {
   "cell_type": "code",
   "execution_count": 3,
   "id": "2e4478a9",
   "metadata": {},
   "outputs": [],
   "source": [
    "NETWORK_SIZE=100\n",
    "MAX_ITER=600\n",
    "import const\n",
    "from swarm import Swarm"
   ]
  },
  {
   "cell_type": "code",
   "execution_count": 10,
   "id": "8f921ce8",
   "metadata": {},
   "outputs": [],
   "source": [
    "results = {}\n",
    "fracs = [0.05, 0.1, 0.2]\n",
    "for frac in fracs:\n",
    "    swarm = Swarm(NETWORK_SIZE, attacker_frac=frac)\n",
    "    \n",
    "    # itermediate values\n",
    "    iterations = []\n",
    "    percentages = []\n",
    "    \n",
    "    for i in range(MAX_ITER):\n",
    "        swarm.iteration()\n",
    "        if i % 50 == 0:\n",
    "            iterations.append(i)\n",
    "            percentages.append(int(swarm.report() * 100))\n",
    "    results[frac] = (iterations, percentages)\n",
    "    \n",
    "    "
   ]
  },
  {
   "cell_type": "code",
   "execution_count": 19,
   "id": "ab7f2787",
   "metadata": {},
   "outputs": [
    {
     "ename": "AttributeError",
     "evalue": "'Figure' object has no attribute 'save'",
     "output_type": "error",
     "traceback": [
      "\u001b[0;31m---------------------------------------------------------------------------\u001b[0m",
      "\u001b[0;31mAttributeError\u001b[0m                            Traceback (most recent call last)",
      "Input \u001b[0;32mIn [19]\u001b[0m, in \u001b[0;36m<cell line: 15>\u001b[0;34m()\u001b[0m\n\u001b[1;32m     12\u001b[0m plt\u001b[38;5;241m.\u001b[39mxticks([x \u001b[38;5;28;01mfor\u001b[39;00m x \u001b[38;5;129;01min\u001b[39;00m \u001b[38;5;28mrange\u001b[39m(\u001b[38;5;241m501\u001b[39m) \u001b[38;5;28;01mif\u001b[39;00m x \u001b[38;5;241m%\u001b[39m \u001b[38;5;241m50\u001b[39m \u001b[38;5;241m==\u001b[39m \u001b[38;5;241m0\u001b[39m])\n\u001b[1;32m     13\u001b[0m ax\u001b[38;5;241m.\u001b[39mset_ylim([\u001b[38;5;241m0\u001b[39m, \u001b[38;5;241m100\u001b[39m])\n\u001b[0;32m---> 15\u001b[0m \u001b[43mfig\u001b[49m\u001b[38;5;241;43m.\u001b[39;49m\u001b[43msave\u001b[49m(\u001b[38;5;124mf\u001b[39m\u001b[38;5;124m\"\u001b[39m\u001b[38;5;124mguardedgossip_results_\u001b[39m\u001b[38;5;132;01m{\u001b[39;00mNETWORK_SIZE\u001b[38;5;132;01m}\u001b[39;00m\u001b[38;5;124m.png\u001b[39m\u001b[38;5;124m\"\u001b[39m)\n\u001b[1;32m     16\u001b[0m plt\u001b[38;5;241m.\u001b[39mshow()\n",
      "\u001b[0;31mAttributeError\u001b[0m: 'Figure' object has no attribute 'save'"
     ]
    },
    {
     "data": {
      "image/png": "[encoded data removed]",
      "text/plain": [
       "<Figure size 640x480 with 1 Axes>"
      ]
     },
     "metadata": {},
     "output_type": "display_data"
    }
   ],
   "source": [
    "#\n",
    "color_idx=0\n",
    "colors = ['blue', 'black', 'red']\n",
    "for frac, (iterations, percentages) in results.items():\n",
    "    ax.plot(iterations, percentages, color=colors[color_idx], )\n",
    "    color_idx += 1\n",
    "\n",
    "ax.set(xlabel='Number of iterations', ylabel='Fraction of malicious nodes [%]',\n",
    "       title=f'A network size of {NETWORK_SIZE}')\n",
    "ax.grid()\n",
    "ax.set_xlim([0, 500])\n",
    "plt.xticks([x for x in range(501) if x % 50 == 0])\n",
    "ax.set_ylim([0, 100])\n",
    "\n",
    "fig.save(f\"guardedgossip_results_{NETWORK_SIZE}.png\")\n",
    "plt.show()"
   ]
  },
  {
   "cell_type": "code",
   "execution_count": null,
   "id": "5cdeb23f",
   "metadata": {},
   "outputs": [],
   "source": []
  }
 ],
 "metadata": {
  "kernelspec": {
   "display_name": "Python 3 (ipykernel)",
   "language": "python",
   "name": "python3"
  },
  "language_info": {
   "codemirror_mode": {
    "name": "ipython",
    "version": 3
   },
   "file_extension": ".py",
   "mimetype": "text/x-python",
   "name": "python",
   "nbconvert_exporter": "python",
   "pygments_lexer": "ipython3",
   "version": "3.10.6"
  }
 },
 "nbformat": 4,
 "nbformat_minor": 5
}
